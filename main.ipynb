{
 "cells": [
  {
   "cell_type": "markdown",
   "metadata": {},
   "source": [
    "# Mask detection at Edge\n",
    "\n",
    "In this project, we are going to detect people wearing masks in front of camera.\n",
    "For people not wearning mask we draw a box, and save the time person was detected.\n"
   ]
  },
  {
   "cell_type": "markdown",
   "metadata": {},
   "source": [
    "# Step 1: Creating a Python Script\n",
    "\n",
    "We'll use the `%%writefile` magic to create a Python file called `person_mask_detection.py`. \n",
    "The first step is to a script in Python that can be use to :\n",
    "\n",
    "1. Load the model\n",
    "\n",
    "2. Get the name of the input node\n",
    "\n",
    "3. Prepare the model for inference (create an input dictionary)\n",
    "\n",
    "4. Run inference on video frame \n",
    "\n",
    "5. Preprocess output and save video frames\n"
   ]
  },
  {
   "cell_type": "code",
   "execution_count": 1,
   "metadata": {},
   "outputs": [
    {
     "name": "stdout",
     "output_type": "stream",
     "text": [
      "Writing person_mask_detection.py\n"
     ]
    }
   ],
   "source": [
    "%%writefile person_mask_detection.py\n",
    "\n",
    "import time\n",
    "import numpy as np\n",
    "import cv2\n",
    "from openvino.inference_engine import IENetwork\n",
    "from openvino.inference_engine import IECore\n",
    "import argparse\n",
    "\n",
    "class PersonDetect:\n",
    "    \n",
    "    \"\"\"\n",
    "    Load and configure inference plugins for the specified target devices \n",
    "    and performs synchronous and asynchronous modes for the specified infer requests.\n",
    "    \"\"\"\n",
    "    \n",
    "    def __init__(self):\n",
    "        \n",
    "        self.net=None\n",
    "        self.input_name=None\n",
    "        self.output_name=None\n",
    "        self.\n",
    "def main(args):\n",
    "    '''\n",
    "    Main function\n",
    "    '''\n",
    "    \n",
    "    \n",
    "if __name__=='__main__':\n",
    "    parser=argparse.ArgumentParser()\n",
    "    parser.add_argument('--model_path', required=True)\n",
    "    parser.add_argument('--device', default=None)\n",
    "    parser.add_argument('--path', default=None)\n",
    "    parser.add_argument('--batches', default=None)\n",
    "    parser.add_argument('--threshold', default=0.6)\n",
    "    parser.add_argument('--input', required=True)\n",
    "    \n",
    "    args=parser.parse_args() \n",
    "    main(args)\n",
    "    "
   ]
  },
  {
   "cell_type": "code",
   "execution_count": null,
   "metadata": {},
   "outputs": [],
   "source": []
  }
 ],
 "metadata": {
  "kernelspec": {
   "display_name": "Python 3",
   "language": "python",
   "name": "python3"
  },
  "language_info": {
   "codemirror_mode": {
    "name": "ipython",
    "version": 3
   },
   "file_extension": ".py",
   "mimetype": "text/x-python",
   "name": "python",
   "nbconvert_exporter": "python",
   "pygments_lexer": "ipython3",
   "version": "3.7.6"
  }
 },
 "nbformat": 4,
 "nbformat_minor": 4
}
